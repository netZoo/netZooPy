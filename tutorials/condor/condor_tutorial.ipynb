{
 "cells": [
  {
   "cell_type": "markdown",
   "metadata": {},
   "source": [
    "# CONDOR usage example"
   ]
  },
  {
   "cell_type": "markdown",
   "metadata": {},
   "source": [
    "### Author: \n",
    "Genís Calderer*. \n",
    "\n",
    "*Kuijjer Lab (NCMM) - genis.calderer@gmail.com"
   ]
  },
  {
   "cell_type": "markdown",
   "metadata": {},
   "source": [
    "## Introduction\n",
    "The condor method is an implementation of the brim algorithm for the analysis of bipartite networks. The purpose of this algorithm is to find a community structure in bipartite networks that takes into account the bipartite structure of the network as opposed to using the network as if it did not have an extra structure.\n",
    "This algorithm was first described in the paper \"Modularity and community detection in bipartite networks\" by Michael J. Barber.\" The python implementation of condor is based on the R version presented in the paper \"Bipartite Community Structure of eQTLs\" by John Platig , Peter J. Castaldi, Dawn DeMeo, John Quackenbush."
   ]
  },
  {
   "cell_type": "markdown",
   "metadata": {},
   "source": [
    "This guide will show how to use CONDOR using a toy network of pollinization between bee species and flower species. It is a small network but as we will see it has a quite well defined modularity structure."
   ]
  },
  {
   "cell_type": "markdown",
   "metadata": {},
   "source": [
    "## 1. Importing CONDOR from netZooPy"
   ]
  },
  {
   "cell_type": "markdown",
   "metadata": {},
   "source": [
    "In order to use the CONDOR functions it has to be imported from the netZooPy as follows:"
   ]
  },
  {
   "cell_type": "code",
   "execution_count": 1,
   "metadata": {},
   "outputs": [],
   "source": [
    "from netZooPy import condor"
   ]
  },
  {
   "cell_type": "markdown",
   "metadata": {},
   "source": [
    "To check the parameters and information of the methods in the condor_object class you can do the following:"
   ]
  },
  {
   "cell_type": "code",
   "execution_count": 3,
   "metadata": {},
   "outputs": [
    {
     "name": "stdout",
     "output_type": "stream",
     "text": [
      "Help on class condor_object in module condor.condor:\n",
      "\n",
      "class condor_object(builtins.object)\n",
      " |  condor_object(network_file=None, sep=',', index_col=0, header=0, dataframe=None)\n",
      " |  \n",
      " |  Methods defined here:\n",
      " |  \n",
      " |  __init__(self, network_file=None, sep=',', index_col=0, header=0, dataframe=None)\n",
      " |      Description:\n",
      " |          Initialization of the condor object. The function gets a network in edgelist format as a path to a file or encoded in a pandas dataframe.\n",
      " |          Builds a condor_object with an edgelist,an igraph network, names of the targets and regulators.\n",
      " |          \n",
      " |          Note: The edgelist is assumed to contain a bipartite network. The program will relabel the nodes so that the edgelist represents a bipartite network anyway.\n",
      " |          It is on the user to know that the network they are using is suitable for the method.\n",
      " |      Inputs:\n",
      " |          network_file: Path to file encoding an edgelist.\n",
      " |          sep: Separator used in the file.\n",
      " |          index_col: Column that stores the index of the edgelist. E.g. None, 0...\n",
      " |          header: Row that stores the header of the edgelist. E.g. None, 0...\n",
      " |          dataframe: Pandas DataFrame containing the edgelist. \n",
      " |      Outputs:\n",
      " |          condor_object is built with the following variables:\n",
      " |          net: Contains the network edgelist as a pandas DataFrame.\n",
      " |          graph: iGraph object containing the bipartite network.\n",
      " |          reg_names: list of the nodes in the first column.\n",
      " |          tar_names: list of the nodes in the second column.\n",
      " |          index_dict: dictionary keeping track of the indices in the \"graph\" variable and the actual names of the nodes.\n",
      " |  \n",
      " |  bipartite_modularity(self, B, m, R, T)\n",
      " |      Computation of the bipartite modularity as described in \"\"Modularity and community detection in bipartite networks\" by Michael J. Barber.\" \n",
      " |      Inputs:\n",
      " |          self     : condor object.\n",
      " |          B        : modularity matrix.\n",
      " |          m        : sum of the weights (or number of edges in the unweighted case.\n",
      " |          R        : community assignement matrix for reg nodes.\n",
      " |          T        : community assignement matrix for tar nodes.\n",
      " |      Outputs:\n",
      " |          self     : updates condor object with\n",
      " |                   Qcoms: Modularity contribution by each community.\n",
      " |                   Q: Modularity score.\n",
      " |          Q        : Modularity score.\n",
      " |  \n",
      " |  brim(self, deltaQmin='def', c='def', resolution=1)\n",
      " |      Implementation of the BRIM algorithm to iteratively maximize bipartite modularity.\n",
      " |      Note that c is the maximum number of communities. Dynamic choice of c is not yet implemented.\n",
      " |      \n",
      " |      Inputs:\n",
      " |          self     : condor object.\n",
      " |          deltaQmin: Difference modularity threshold for stopping the iterative process\n",
      " |          c        : max number of communities.\n",
      " |          resolution: Not yet implemented option\n",
      " |      Outputs:\n",
      " |          self        : Updates condor object with the following:\n",
      " |                      modularity: Modularity score for the final assignement.\n",
      " |                      tar_memb: Final community assignement for tar nodes.\n",
      " |                      reg_memb: Final community assignement for reg nodes.\n",
      " |           \n",
      " |      Note:\n",
      " |          c        : Has to be bigger than the number of communities given by the initial community assignement. Otherwise the program will crash. The default option gives room for 20% more communities which rarely fails.\n",
      " |  \n",
      " |  initial_community(self, method='LCS', project=False)\n",
      " |      Description:\n",
      " |          Computation of the initial community structure based on unipartite methods. \n",
      " |      \n",
      " |      Inputs:\n",
      " |          self     : condor object.\n",
      " |          method : Method to determine intial community assignment.\n",
      " |                   \"LCS\": Multilevel method.\n",
      " |                   \"LEC\": Leading Eigenvector method.\n",
      " |                   \"FG\" : Fast Greedy method.\n",
      " |                   \"LDN\": Leiden method\n",
      " |          project: Whether to apply the initial community structure on the bipartite network disregarding the bipartite structure\n",
      " |                   or apply it to the unipartite network resulting from the projection onto one of these nodes.\n",
      " |      Outputs:\n",
      " |          self     : updates condor object with\n",
      " |                   tar_memb: DataFrame of initial target node membership.\n",
      " |                   reg_memb: DataFrame of initial reg node membership.\n",
      " |  \n",
      " |  matrices(self, c)\n",
      " |      Computation of modularity matrix and initial community matrix.\n",
      " |      \n",
      " |      Inputs:\n",
      " |          self     : condor object.\n",
      " |          c        : max number of communities.\n",
      " |      Outputs:\n",
      " |          B        : Modularity matrix.\n",
      " |          m        : Sum of the weights (or number of edges in the unweighted case.\n",
      " |          T0       : Initial community structure matrix for target nodes.\n",
      " |          R0       : Initial community structure matrix for reg nodes.\n",
      " |          gn       : Index dictionary for tar node names.\n",
      " |          rg       : Index dictionary for reg node names.\n",
      " |  \n",
      " |  qscores(self)\n",
      " |      Computes the qscores (contribution of a vertex to its community modularity)\n",
      " |      for each vertex in the network.\n",
      " |  \n",
      " |  ----------------------------------------------------------------------\n",
      " |  Data descriptors defined here:\n",
      " |  \n",
      " |  __dict__\n",
      " |      dictionary for instance variables (if defined)\n",
      " |  \n",
      " |  __weakref__\n",
      " |      list of weak references to the object (if defined)\n",
      "\n"
     ]
    }
   ],
   "source": [
    "help(condor.condor_object)"
   ]
  },
  {
   "cell_type": "markdown",
   "metadata": {},
   "source": [
    "## 2.1 Create a CONDOR object from an edgelist in a file"
   ]
  },
  {
   "cell_type": "markdown",
   "metadata": {},
   "source": [
    "A CONDOR object can be created from an edgelist encoded into a file as following:"
   ]
  },
  {
   "cell_type": "code",
   "execution_count": 2,
   "metadata": {},
   "outputs": [
    {
     "name": "stdout",
     "output_type": "stream",
     "text": [
      "Object creation:\n",
      "  Elapsed time: 0.01 sec.\n"
     ]
    }
   ],
   "source": [
    "condor_object = condor.condor_object(network_file=\"toynetwork.csv\")"
   ]
  },
  {
   "cell_type": "markdown",
   "metadata": {},
   "source": [
    "By default the method uses csv edgelists with header and index colum, consult the function documentation for details about modifying the format. "
   ]
  },
  {
   "cell_type": "markdown",
   "metadata": {},
   "source": [
    "## 2.2 Create a CONDOR object from a DataFrame"
   ]
  },
  {
   "cell_type": "markdown",
   "metadata": {},
   "source": [
    "A CONDOR objecte can also be created from a pandas DataFrame."
   ]
  },
  {
   "cell_type": "code",
   "execution_count": 4,
   "metadata": {},
   "outputs": [
    {
     "data": {
      "text/html": [
       "<div>\n",
       "<style scoped>\n",
       "    .dataframe tbody tr th:only-of-type {\n",
       "        vertical-align: middle;\n",
       "    }\n",
       "\n",
       "    .dataframe tbody tr th {\n",
       "        vertical-align: top;\n",
       "    }\n",
       "\n",
       "    .dataframe thead th {\n",
       "        text-align: right;\n",
       "    }\n",
       "</style>\n",
       "<table border=\"1\" class=\"dataframe\">\n",
       "  <thead>\n",
       "    <tr style=\"text-align: right;\">\n",
       "      <th></th>\n",
       "      <th>pollinator</th>\n",
       "      <th>plant</th>\n",
       "      <th>interactions</th>\n",
       "    </tr>\n",
       "  </thead>\n",
       "  <tbody>\n",
       "    <tr>\n",
       "      <th>1</th>\n",
       "      <td>Adela.purpurea</td>\n",
       "      <td>Salix.fragilis</td>\n",
       "      <td>20</td>\n",
       "    </tr>\n",
       "    <tr>\n",
       "      <th>2</th>\n",
       "      <td>Adela.purpurea</td>\n",
       "      <td>Chamaedaphne.calyculata</td>\n",
       "      <td>0</td>\n",
       "    </tr>\n",
       "    <tr>\n",
       "      <th>3</th>\n",
       "      <td>Adela.purpurea</td>\n",
       "      <td>Nemopanthus.mucronata</td>\n",
       "      <td>0</td>\n",
       "    </tr>\n",
       "    <tr>\n",
       "      <th>4</th>\n",
       "      <td>Adela.purpurea</td>\n",
       "      <td>Andromeda.glaucophylla</td>\n",
       "      <td>0</td>\n",
       "    </tr>\n",
       "    <tr>\n",
       "      <th>5</th>\n",
       "      <td>Adela.purpurea</td>\n",
       "      <td>Kalmia.polifolia</td>\n",
       "      <td>0</td>\n",
       "    </tr>\n",
       "  </tbody>\n",
       "</table>\n",
       "</div>"
      ],
      "text/plain": [
       "       pollinator                    plant  interactions\n",
       "1  Adela.purpurea           Salix.fragilis            20\n",
       "2  Adela.purpurea  Chamaedaphne.calyculata             0\n",
       "3  Adela.purpurea    Nemopanthus.mucronata             0\n",
       "4  Adela.purpurea   Andromeda.glaucophylla             0\n",
       "5  Adela.purpurea         Kalmia.polifolia             0"
      ]
     },
     "execution_count": 4,
     "metadata": {},
     "output_type": "execute_result"
    }
   ],
   "source": [
    "import pandas as pd\n",
    "network = pd.read_csv(\"toynetwork.csv\",index_col=0)\n",
    "network.head(5)"
   ]
  },
  {
   "cell_type": "markdown",
   "metadata": {},
   "source": [
    "We initialize the CONDOR object with the parameter dataframe=network"
   ]
  },
  {
   "cell_type": "code",
   "execution_count": 5,
   "metadata": {},
   "outputs": [
    {
     "name": "stdout",
     "output_type": "stream",
     "text": [
      "Object creation:\n",
      "  Elapsed time: 0.01 sec.\n"
     ]
    }
   ],
   "source": [
    "condor_object = condor.condor_object(dataframe=network)"
   ]
  },
  {
   "cell_type": "markdown",
   "metadata": {},
   "source": [
    "## 3. Running CONDOR"
   ]
  },
  {
   "cell_type": "markdown",
   "metadata": {},
   "source": [
    "The next step is computing the initial community structure. By default we use the Louvain method. Consult the documentation of the method for different initial community structure algorithms and projection."
   ]
  },
  {
   "cell_type": "code",
   "execution_count": 6,
   "metadata": {},
   "outputs": [
    {
     "name": "stdout",
     "output_type": "stream",
     "text": [
      "interactions <class 'str'>\n",
      "Initial community structure without projection:\n",
      "Initial modularity:  0.5253469286550468\n",
      "  Elapsed time: 0.00 sec.\n"
     ]
    }
   ],
   "source": [
    "condor_object.initial_community()"
   ]
  },
  {
   "cell_type": "markdown",
   "metadata": {},
   "source": [
    "The condor object now has a community structure associated but it is not specific for bipartite networks. We apply the brim algorithm to find the bipartite community structure."
   ]
  },
  {
   "cell_type": "code",
   "execution_count": 8,
   "metadata": {},
   "outputs": [
    {
     "name": "stdout",
     "output_type": "stream",
     "text": [
      "Matrix computation:\n",
      "  Elapsed time: 0.04 sec.\n",
      "BRIM: \n",
      "0.5266669647502601\n",
      "0.5266669647502601\n",
      "  Elapsed time: 0.01 sec.\n"
     ]
    }
   ],
   "source": [
    "condor_object.brim(deltaQmin=\"def\")"
   ]
  },
  {
   "cell_type": "markdown",
   "metadata": {},
   "source": [
    "The numbers in the output of this function show the bipartite modularity score for each iteration. The modularity of a bipartite network is a value from 0 to 1 that quantifies how well separated is the network into modules. A score of 0.52 is quite high."
   ]
  },
  {
   "cell_type": "markdown",
   "metadata": {},
   "source": [
    "## 4. Results"
   ]
  },
  {
   "cell_type": "markdown",
   "metadata": {},
   "source": [
    "The resulting condor_object of the above process has the membership of the target and regulator nodes into the different communities that have been found. These are stored in the variables ```tar_memb``` and ```reg_memb```"
   ]
  },
  {
   "cell_type": "markdown",
   "metadata": {},
   "source": [
    "For example if we want to see the membership of the $reg$ nodes we can do it as follows:"
   ]
  },
  {
   "cell_type": "code",
   "execution_count": 9,
   "metadata": {},
   "outputs": [
    {
     "data": {
      "text/html": [
       "<div>\n",
       "<style scoped>\n",
       "    .dataframe tbody tr th:only-of-type {\n",
       "        vertical-align: middle;\n",
       "    }\n",
       "\n",
       "    .dataframe tbody tr th {\n",
       "        vertical-align: top;\n",
       "    }\n",
       "\n",
       "    .dataframe thead th {\n",
       "        text-align: right;\n",
       "    }\n",
       "</style>\n",
       "<table border=\"1\" class=\"dataframe\">\n",
       "  <thead>\n",
       "    <tr style=\"text-align: right;\">\n",
       "      <th></th>\n",
       "      <th>reg</th>\n",
       "      <th>com</th>\n",
       "    </tr>\n",
       "  </thead>\n",
       "  <tbody>\n",
       "    <tr>\n",
       "      <th>0</th>\n",
       "      <td>reg_Adela.purpurea</td>\n",
       "      <td>0</td>\n",
       "    </tr>\n",
       "    <tr>\n",
       "      <th>1</th>\n",
       "      <td>reg_Andrena.alleghaniensis</td>\n",
       "      <td>1</td>\n",
       "    </tr>\n",
       "    <tr>\n",
       "      <th>2</th>\n",
       "      <td>reg_Andrena.bradleyi</td>\n",
       "      <td>2</td>\n",
       "    </tr>\n",
       "    <tr>\n",
       "      <th>3</th>\n",
       "      <td>reg_Andrena.carlini</td>\n",
       "      <td>2</td>\n",
       "    </tr>\n",
       "    <tr>\n",
       "      <th>4</th>\n",
       "      <td>reg_Andrena.carolina</td>\n",
       "      <td>3</td>\n",
       "    </tr>\n",
       "  </tbody>\n",
       "</table>\n",
       "</div>"
      ],
      "text/plain": [
       "                          reg  com\n",
       "0          reg_Adela.purpurea    0\n",
       "1  reg_Andrena.alleghaniensis    1\n",
       "2        reg_Andrena.bradleyi    2\n",
       "3         reg_Andrena.carlini    2\n",
       "4        reg_Andrena.carolina    3"
      ]
     },
     "execution_count": 9,
     "metadata": {},
     "output_type": "execute_result"
    }
   ],
   "source": [
    "condor_object.reg_memb.head(5)"
   ]
  },
  {
   "cell_type": "markdown",
   "metadata": {},
   "source": [
    "## 5. Running CONDOR the whole process from a filename"
   ]
  },
  {
   "cell_type": "markdown",
   "metadata": {},
   "source": [
    "We note that the guide above shows how to use the method step by step. There is also the possibility to run automatically the whole process starting only with the filename of the network's edgelist in csv format.\n",
    "This is done using the condor function, and it outputs the target and regulator memberships into csv files."
   ]
  },
  {
   "cell_type": "code",
   "execution_count": 10,
   "metadata": {},
   "outputs": [
    {
     "name": "stdout",
     "output_type": "stream",
     "text": [
      "Object creation:\n",
      "  Elapsed time: 0.01 sec.\n",
      "interactions <class 'str'>\n",
      "Initial community structure without projection:\n",
      "Initial modularity:  0.5253469286550468\n",
      "  Elapsed time: 0.00 sec.\n",
      "Matrix computation:\n",
      "  Elapsed time: 0.01 sec.\n",
      "BRIM: \n",
      "0.5266669647502601\n",
      "0.5266669647502601\n",
      "  Elapsed time: 0.00 sec.\n"
     ]
    }
   ],
   "source": [
    "condor.run_condor(\"toynetwork.csv\")"
   ]
  },
  {
   "cell_type": "markdown",
   "metadata": {},
   "source": [
    "Check the documentation of the ```run_condor``` function to toggle the options of the method."
   ]
  },
  {
   "cell_type": "code",
   "execution_count": 11,
   "metadata": {},
   "outputs": [
    {
     "name": "stdout",
     "output_type": "stream",
     "text": [
      "Help on function run_condor in module condor.condor:\n",
      "\n",
      "run_condor(network_file, sep=',', index_col=0, header=0, initial_method='LCS', initial_project=False, com_num='def', deltaQmin='def', resolution=1, return_output=False, tar_output='tar_memb.txt', reg_output='reg_memb.txt')\n",
      "    Description:\n",
      "        Computation of the whole condor process. It creates a condor object and runs all the steps of BRIM on it. The function outputs \n",
      "        \n",
      "        Note: The edgelist is assumed to contain a bipartite network. The program will relabel the nodes so that the edgelist represents a bipartite network anyway.\n",
      "        It is on the user to know that the network they are using is suitable for the method.\n",
      "    Inputs:\n",
      "        network_file: Path to file encoding an edgelist.\n",
      "        sep: Separator used in the file.\n",
      "        index_col: Column that stores the index of the edgelist. E.g. None, 0...\n",
      "        header: Row that stores the header of the edgelist. E.g. None, 0...\n",
      "        initial_method: Method to determine intial community assignment. (By default Multilevel method).\n",
      "        initial_project: Whether to project the network onto one of the bipartite sets for the initial community detection.\n",
      "        com_num: Max number of communities. It is recomended to leave this to default, otherwise if the initial community assignement is bigger the program will crash.\n",
      "        deltaQmin: Difference modularity threshold for stopping the iterative process.\n",
      "        resolution: Not yet implemented.\n",
      "        return_output: Whether the function returns the created condor object.\n",
      "        tar_output: Filename for saving the tar node final membership.\n",
      "        reg_output: Filename for saving the reg node final membership.\n",
      "    \n",
      "    Outputs:\n",
      "        condor_object (if return_output=True)\n",
      "        Files \"tar_memb.txt\" and \"reg_memb.txt\" encoding the final tar and reg node membership.\n",
      "\n"
     ]
    }
   ],
   "source": [
    "help(condor.run_condor)"
   ]
  },
  {
   "cell_type": "code",
   "execution_count": null,
   "metadata": {},
   "outputs": [],
   "source": []
  }
 ],
 "metadata": {
  "kernelspec": {
   "display_name": "Python 3",
   "language": "python",
   "name": "python3"
  },
  "language_info": {
   "codemirror_mode": {
    "name": "ipython",
    "version": 3
   },
   "file_extension": ".py",
   "mimetype": "text/x-python",
   "name": "python",
   "nbconvert_exporter": "python",
   "pygments_lexer": "ipython3",
   "version": "3.9.7"
  }
 },
 "nbformat": 4,
 "nbformat_minor": 4
}
