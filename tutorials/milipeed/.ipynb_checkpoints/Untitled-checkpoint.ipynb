{
 "cells": [
  {
   "cell_type": "code",
   "execution_count": 19,
   "metadata": {},
   "outputs": [
    {
     "ename": "LoadError",
     "evalue": "ArgumentError: Package DataFrames not found in current path:\n- Run `import Pkg; Pkg.add(\"DataFrames\")` to install the DataFrames package.\n",
     "output_type": "error",
     "traceback": [
      "ArgumentError: Package DataFrames not found in current path:\n- Run `import Pkg; Pkg.add(\"DataFrames\")` to install the DataFrames package.\n",
      "",
      "Stacktrace:",
      " [1] require(::Module, ::Symbol) at ./loading.jl:893",
      " [2] include_string(::Function, ::Module, ::String, ::String) at ./loading.jl:1091"
     ]
    }
   ],
   "source": [
    "using CSV\n",
    "using Plots\n",
    "using DataFrames"
   ]
  },
  {
   "cell_type": "code",
   "execution_count": 14,
   "metadata": {},
   "outputs": [
    {
     "name": "stdout",
     "output_type": "stream",
     "text": [
      "/Users/redmo\n"
     ]
    }
   ],
   "source": [
    ";cd ../.."
   ]
  },
  {
   "cell_type": "code",
   "execution_count": 21,
   "metadata": {
    "collapsed": true,
    "jupyter": {
     "outputs_hidden": true
    }
   },
   "outputs": [
    {
     "data": {
      "text/html": [
       "<table class=\"data-frame\"><thead><tr><th></th><th>CG</th><th>total</th><th>motif</th><th>gene</th></tr><tr><th></th><th>Int64</th><th>Int64</th><th>String</th><th>String</th></tr></thead><tbody><p>733 rows × 4 columns</p><tr><th>1</th><td>177998</td><td>783459</td><td>M0085</td><td>TFAP2E</td></tr><tr><th>2</th><td>3348</td><td>1158631</td><td>M0104</td><td>ARID3B</td></tr><tr><th>3</th><td>9665</td><td>1102104</td><td>M0105</td><td>ARID3C</td></tr><tr><th>4</th><td>5522</td><td>1116186</td><td>M0108</td><td>ARID5A</td></tr><tr><th>5</th><td>5490</td><td>842019</td><td>M0177</td><td>TWIST2</td></tr><tr><th>6</th><td>35506</td><td>1292148</td><td>M0178</td><td>ASCL2</td></tr><tr><th>7</th><td>301811</td><td>301812</td><td>M0189</td><td>ID2</td></tr><tr><th>8</th><td>3984</td><td>666207</td><td>M0195</td><td>TCF23</td></tr><tr><th>9</th><td>370391</td><td>370392</td><td>M0196</td><td>NPAS2</td></tr><tr><th>10</th><td>212853</td><td>212854</td><td>M0198</td><td>SOHLH2</td></tr><tr><th>11</th><td>223820</td><td>367412</td><td>M0199</td><td>HES2</td></tr><tr><th>12</th><td>293296</td><td>293297</td><td>M0211</td><td>MLXIP</td></tr><tr><th>13</th><td>236673</td><td>236674</td><td>M0212</td><td>TCFL5</td></tr><tr><th>14</th><td>0</td><td>752689</td><td>M0214</td><td>TCF21</td></tr><tr><th>15</th><td>88624</td><td>979300</td><td>M0216</td><td>NHLH2</td></tr><tr><th>16</th><td>14060</td><td>456080</td><td>M0217</td><td>NEUROG1</td></tr><tr><th>17</th><td>88712</td><td>133630</td><td>M0300</td><td>ATF2</td></tr><tr><th>18</th><td>222013</td><td>222014</td><td>M0305</td><td>CREB3L2</td></tr><tr><th>19</th><td>109784</td><td>109785</td><td>M0307</td><td>ENSG00000250542</td></tr><tr><th>20</th><td>0</td><td>317000</td><td>M0395</td><td>ZNF187</td></tr><tr><th>21</th><td>75387</td><td>401039</td><td>M0396</td><td>OSR2</td></tr><tr><th>22</th><td>68555</td><td>711732</td><td>M0398</td><td>ZSCAN10</td></tr><tr><th>23</th><td>148468</td><td>827611</td><td>M0404</td><td>ZNF202</td></tr><tr><th>24</th><td>562292</td><td>1077646</td><td>M0405</td><td>KLF7</td></tr><tr><th>25</th><td>157081</td><td>513186</td><td>M0408</td><td>ZKSCAN1</td></tr><tr><th>26</th><td>158049</td><td>158050</td><td>M0413</td><td>ZBTB1</td></tr><tr><th>27</th><td>50544</td><td>50545</td><td>M0415</td><td>KLF9</td></tr><tr><th>28</th><td>217008</td><td>677538</td><td>M0422</td><td>ZIC5</td></tr><tr><th>29</th><td>16728</td><td>671200</td><td>M0424</td><td>SNAI3</td></tr><tr><th>30</th><td>10313</td><td>527340</td><td>M0428</td><td>ZNF691</td></tr><tr><th>&vellip;</th><td>&vellip;</td><td>&vellip;</td><td>&vellip;</td><td>&vellip;</td></tr></tbody></table>"
      ],
      "text/latex": [
       "\\begin{tabular}{r|cccc}\n",
       "\t& CG & total & motif & gene\\\\\n",
       "\t\\hline\n",
       "\t& Int64 & Int64 & String & String\\\\\n",
       "\t\\hline\n",
       "\t1 & 177998 & 783459 & M0085 & TFAP2E \\\\\n",
       "\t2 & 3348 & 1158631 & M0104 & ARID3B \\\\\n",
       "\t3 & 9665 & 1102104 & M0105 & ARID3C \\\\\n",
       "\t4 & 5522 & 1116186 & M0108 & ARID5A \\\\\n",
       "\t5 & 5490 & 842019 & M0177 & TWIST2 \\\\\n",
       "\t6 & 35506 & 1292148 & M0178 & ASCL2 \\\\\n",
       "\t7 & 301811 & 301812 & M0189 & ID2 \\\\\n",
       "\t8 & 3984 & 666207 & M0195 & TCF23 \\\\\n",
       "\t9 & 370391 & 370392 & M0196 & NPAS2 \\\\\n",
       "\t10 & 212853 & 212854 & M0198 & SOHLH2 \\\\\n",
       "\t11 & 223820 & 367412 & M0199 & HES2 \\\\\n",
       "\t12 & 293296 & 293297 & M0211 & MLXIP \\\\\n",
       "\t13 & 236673 & 236674 & M0212 & TCFL5 \\\\\n",
       "\t14 & 0 & 752689 & M0214 & TCF21 \\\\\n",
       "\t15 & 88624 & 979300 & M0216 & NHLH2 \\\\\n",
       "\t16 & 14060 & 456080 & M0217 & NEUROG1 \\\\\n",
       "\t17 & 88712 & 133630 & M0300 & ATF2 \\\\\n",
       "\t18 & 222013 & 222014 & M0305 & CREB3L2 \\\\\n",
       "\t19 & 109784 & 109785 & M0307 & ENSG00000250542 \\\\\n",
       "\t20 & 0 & 317000 & M0395 & ZNF187 \\\\\n",
       "\t21 & 75387 & 401039 & M0396 & OSR2 \\\\\n",
       "\t22 & 68555 & 711732 & M0398 & ZSCAN10 \\\\\n",
       "\t23 & 148468 & 827611 & M0404 & ZNF202 \\\\\n",
       "\t24 & 562292 & 1077646 & M0405 & KLF7 \\\\\n",
       "\t25 & 157081 & 513186 & M0408 & ZKSCAN1 \\\\\n",
       "\t26 & 158049 & 158050 & M0413 & ZBTB1 \\\\\n",
       "\t27 & 50544 & 50545 & M0415 & KLF9 \\\\\n",
       "\t28 & 217008 & 677538 & M0422 & ZIC5 \\\\\n",
       "\t29 & 16728 & 671200 & M0424 & SNAI3 \\\\\n",
       "\t30 & 10313 & 527340 & M0428 & ZNF691 \\\\\n",
       "\t$\\dots$ & $\\dots$ & $\\dots$ & $\\dots$ & $\\dots$ \\\\\n",
       "\\end{tabular}\n"
      ],
      "text/plain": [
       "733×4 DataFrame\n",
       "│ Row │ CG      │ total   │ motif  │ gene   │\n",
       "│     │ \u001b[90mInt64\u001b[39m   │ \u001b[90mInt64\u001b[39m   │ \u001b[90mString\u001b[39m │ \u001b[90mString\u001b[39m │\n",
       "├─────┼─────────┼─────────┼────────┼────────┤\n",
       "│ 1   │ 177998  │ 783459  │ M0085  │ TFAP2E │\n",
       "│ 2   │ 3348    │ 1158631 │ M0104  │ ARID3B │\n",
       "│ 3   │ 9665    │ 1102104 │ M0105  │ ARID3C │\n",
       "│ 4   │ 5522    │ 1116186 │ M0108  │ ARID5A │\n",
       "│ 5   │ 5490    │ 842019  │ M0177  │ TWIST2 │\n",
       "│ 6   │ 35506   │ 1292148 │ M0178  │ ASCL2  │\n",
       "│ 7   │ 301811  │ 301812  │ M0189  │ ID2    │\n",
       "│ 8   │ 3984    │ 666207  │ M0195  │ TCF23  │\n",
       "│ 9   │ 370391  │ 370392  │ M0196  │ NPAS2  │\n",
       "│ 10  │ 212853  │ 212854  │ M0198  │ SOHLH2 │\n",
       "⋮\n",
       "│ 723 │ 26996   │ 1501309 │ M6548  │ ZIC1   │\n",
       "│ 724 │ 26050   │ 1017929 │ M6549  │ ZIC2   │\n",
       "│ 725 │ 105289  │ 1148953 │ M6550  │ ZIC3   │\n",
       "│ 726 │ 1249030 │ 4464945 │ M6552  │ ZNF148 │\n",
       "│ 727 │ 684872  │ 2062046 │ M6553  │ ZNF219 │\n",
       "│ 728 │ 88869   │ 843136  │ M6554  │ ZNF238 │\n",
       "│ 729 │ 16646   │ 392341  │ M6555  │ ZNF333 │\n",
       "│ 730 │ 323309  │ 904188  │ M6556  │ ZNF350 │\n",
       "│ 731 │ 54053   │ 943504  │ M6557  │ ZNF384 │\n",
       "│ 732 │ 97573   │ 636601  │ M6558  │ ZNF423 │\n",
       "│ 733 │ 108691  │ 343667  │ M6559  │ ZNF589 │"
      ]
     },
     "execution_count": 21,
     "metadata": {},
     "output_type": "execute_result"
    }
   ],
   "source": [
    "data=CSV.read(\"Desktop/tmp1.txt\",header=[:CG,:total,:motif,:gene])"
   ]
  },
  {
   "cell_type": "code",
   "execution_count": null,
   "metadata": {},
   "outputs": [],
   "source": [
    "gr()\n",
    "plot(data[\"CG\"], data[\"total\"], seriestype = :scatter, title = \"My Scatter Plot\")"
   ]
  },
  {
   "cell_type": "code",
   "execution_count": null,
   "metadata": {},
   "outputs": [],
   "source": []
  }
 ],
 "metadata": {
  "kernelspec": {
   "display_name": "Julia 1.5.1",
   "language": "julia",
   "name": "julia-1.5"
  },
  "language_info": {
   "file_extension": ".jl",
   "mimetype": "application/julia",
   "name": "julia",
   "version": "1.5.1"
  }
 },
 "nbformat": 4,
 "nbformat_minor": 4
}
