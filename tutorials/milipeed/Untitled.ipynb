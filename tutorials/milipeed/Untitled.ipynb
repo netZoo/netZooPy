{
 "cells": [
  {
   "cell_type": "code",
   "execution_count": 10,
   "metadata": {},
   "outputs": [],
   "source": [
    "using CSV\n",
    "using Plots\n",
    "using DataFrames\n",
    "using StatsPlots\n",
    "# using UnicodePlots\n",
    "# using RDatasets"
   ]
  },
  {
   "cell_type": "code",
   "execution_count": 11,
   "metadata": {},
   "outputs": [
    {
     "name": "stdout",
     "output_type": "stream",
     "text": [
      "/\n"
     ]
    }
   ],
   "source": [
    ";cd ../../.."
   ]
  },
  {
   "cell_type": "code",
   "execution_count": 12,
   "metadata": {},
   "outputs": [
    {
     "ename": "LoadError",
     "evalue": "ArgumentError: \"Desktop/tmp1.txt\" is not a valid file",
     "output_type": "error",
     "traceback": [
      "ArgumentError: \"Desktop/tmp1.txt\" is not a valid file",
      "",
      "Stacktrace:",
      " [1] Header at /Users/redmo/.julia/packages/CSV/MKemC/src/header.jl:92 [inlined]",
      " [2] CSV.File(::String; header::Array{Symbol,1}, normalizenames::Bool, datarow::Int64, skipto::Nothing, footerskip::Int64, transpose::Bool, comment::Nothing, use_mmap::Nothing, ignoreemptylines::Bool, select::Nothing, drop::Nothing, missingstrings::Array{String,1}, missingstring::String, delim::Nothing, ignorerepeated::Bool, quotechar::Char, openquotechar::Nothing, closequotechar::Nothing, escapechar::Char, dateformat::Nothing, dateformats::Nothing, decimal::UInt8, truestrings::Array{String,1}, falsestrings::Array{String,1}, type::Nothing, types::Nothing, typemap::Dict{Type,Type}, categorical::Nothing, pool::Float64, lazystrings::Bool, strict::Bool, silencewarnings::Bool, debug::Bool, parsingdebug::Bool, kw::Base.Iterators.Pairs{Union{},Union{},Tuple{},NamedTuple{(),Tuple{}}}) at /Users/redmo/.julia/packages/CSV/MKemC/src/file.jl:216",
      " [3] read(::String, ::Nothing; copycols::Bool, kwargs::Base.Iterators.Pairs{Symbol,Array{Symbol,1},Tuple{Symbol},NamedTuple{(:header,),Tuple{Array{Symbol,1}}}}) at /Users/redmo/.julia/packages/CSV/MKemC/src/CSV.jl:44",
      " [4] top-level scope at In[12]:1",
      " [5] include_string(::Function, ::Module, ::String, ::String) at ./loading.jl:1091"
     ]
    }
   ],
   "source": [
    "data=(CSV.read(\"Desktop/tmp1.txt\",header=[:CG,:total,:motif,:gene]))"
   ]
  },
  {
   "cell_type": "code",
   "execution_count": 13,
   "metadata": {},
   "outputs": [
    {
     "ename": "LoadError",
     "evalue": "UndefVarError: v not defined",
     "output_type": "error",
     "traceback": [
      "UndefVarError: v not defined",
      "",
      "Stacktrace:",
      " [1] top-level scope at In[13]:2",
      " [2] include_string(::Function, ::Module, ::String, ::String) at ./loading.jl:1091"
     ]
    }
   ],
   "source": [
    "\n",
    "@df v plot(data.CG)"
   ]
  },
  {
   "cell_type": "code",
   "execution_count": 14,
   "metadata": {},
   "outputs": [
    {
     "ename": "LoadError",
     "evalue": "UndefVarError: data not defined",
     "output_type": "error",
     "traceback": [
      "UndefVarError: data not defined",
      "",
      "Stacktrace:",
      " [1] top-level scope at In[14]:1",
      " [2] include_string(::Function, ::Module, ::String, ::String) at ./loading.jl:1091"
     ]
    }
   ],
   "source": [
    "data[[\"CG\",\"total\"]]"
   ]
  },
  {
   "cell_type": "code",
   "execution_count": 15,
   "metadata": {},
   "outputs": [
    {
     "ename": "LoadError",
     "evalue": "UndefVarError: data not defined",
     "output_type": "error",
     "traceback": [
      "UndefVarError: data not defined",
      "",
      "Stacktrace:",
      " [1] top-level scope",
      " [2] include_string(::Function, ::Module, ::String, ::String) at ./loading.jl:1091"
     ]
    }
   ],
   "source": [
    "data"
   ]
  },
  {
   "cell_type": "code",
   "execution_count": 18,
   "metadata": {},
   "outputs": [
    {
     "name": "stderr",
     "output_type": "stream",
     "text": [
      "┌ Info: Precompiling RDatasets [ce6b1742-4840-55fa-b093-852dadbb1d8b]\n",
      "└ @ Base loading.jl:1278\n"
     ]
    },
    {
     "ename": "LoadError",
     "evalue": "UndefVarError: select not defined",
     "output_type": "error",
     "traceback": [
      "UndefVarError: select not defined",
      "",
      "Stacktrace:",
      " [1] extract_columns_and_names(::DataFrame, ::Symbol, ::Vararg{Symbol,N} where N) at /Users/redmo/.julia/packages/StatsPlots/Y1rGZ/src/df.jl:159",
      " [2] (::var\"#3#4\")(::DataFrame) at ./none:0",
      " [3] top-level scope at In[18]:4",
      " [4] include_string(::Function, ::Module, ::String, ::String) at ./loading.jl:1091"
     ]
    }
   ],
   "source": [
    "using StatsPlots, RDatasets\n",
    "gr()\n",
    "iris = dataset(\"datasets\", \"iris\")\n",
    "@df iris scatter(\n",
    "    :SepalLength,\n",
    "    :SepalWidth,\n",
    "    group = :Species,\n",
    "    m = (0.5, [:+ :h :star7], 12),\n",
    "    bg = RGB(0.2, 0.2, 0.2)\n",
    ")"
   ]
  },
  {
   "cell_type": "code",
   "execution_count": null,
   "metadata": {},
   "outputs": [],
   "source": []
  }
 ],
 "metadata": {
  "kernelspec": {
   "display_name": "Julia 1.5.1",
   "language": "julia",
   "name": "julia-1.5"
  },
  "language_info": {
   "file_extension": ".jl",
   "mimetype": "application/julia",
   "name": "julia",
   "version": "1.5.1"
  }
 },
 "nbformat": 4,
 "nbformat_minor": 4
}
